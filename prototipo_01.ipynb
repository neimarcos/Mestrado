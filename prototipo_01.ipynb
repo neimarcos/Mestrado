{
  "nbformat": 4,
  "nbformat_minor": 0,
  "metadata": {
    "colab": {
      "name": "prototipo_01.ipynb",
      "provenance": [],
      "authorship_tag": "ABX9TyNfz9QwnE9O4LIrlMsn2yNT",
      "include_colab_link": true
    },
    "kernelspec": {
      "name": "python3",
      "display_name": "Python 3"
    },
    "language_info": {
      "name": "python"
    }
  },
  "cells": [
    {
      "cell_type": "markdown",
      "metadata": {
        "id": "view-in-github",
        "colab_type": "text"
      },
      "source": [
        "<a href=\"https://colab.research.google.com/github/neimarcos/Mestrado/blob/main/prototipo_01.ipynb\" target=\"_parent\"><img src=\"https://colab.research.google.com/assets/colab-badge.svg\" alt=\"Open In Colab\"/></a>"
      ]
    },
    {
      "cell_type": "markdown",
      "source": [
        "Testes iniciais com grafico simples, feito na mão no exemplo"
      ],
      "metadata": {
        "id": "DTwV3xP_IycR"
      }
    },
    {
      "cell_type": "code",
      "source": [
        "!pip install pulp"
      ],
      "metadata": {
        "id": "7cqDPSxxPiXe",
        "outputId": "f3c0185f-968b-4e2f-c0d9-ad4b14160336",
        "colab": {
          "base_uri": "https://localhost:8080/"
        }
      },
      "execution_count": 186,
      "outputs": [
        {
          "output_type": "stream",
          "name": "stdout",
          "text": [
            "Looking in indexes: https://pypi.org/simple, https://us-python.pkg.dev/colab-wheels/public/simple/\n",
            "Collecting pulp\n",
            "  Downloading PuLP-2.6.0-py3-none-any.whl (14.2 MB)\n",
            "\u001b[K     |████████████████████████████████| 14.2 MB 4.7 MB/s \n",
            "\u001b[?25hInstalling collected packages: pulp\n",
            "Successfully installed pulp-2.6.0\n"
          ]
        }
      ]
    },
    {
      "cell_type": "code",
      "execution_count": 221,
      "metadata": {
        "colab": {
          "base_uri": "https://localhost:8080/",
          "height": 506
        },
        "id": "ilvkSA-1IldF",
        "outputId": "6d7301f0-3be4-4fe7-dee1-023eec664cef"
      },
      "outputs": [
        {
          "output_type": "stream",
          "name": "stderr",
          "text": [
            "/usr/local/lib/python3.7/dist-packages/pulp/pulp.py:1352: UserWarning: Spaces are not permitted in the name. Converted to '_'\n",
            "  warnings.warn(\"Spaces are not permitted in the name. Converted to '_'\")\n"
          ]
        },
        {
          "output_type": "error",
          "ename": "KeyError",
          "evalue": "ignored",
          "traceback": [
            "\u001b[0;31m---------------------------------------------------------------------------\u001b[0m",
            "\u001b[0;31mKeyError\u001b[0m                                  Traceback (most recent call last)",
            "\u001b[0;32m<ipython-input-221-75992697f72d>\u001b[0m in \u001b[0;36m<module>\u001b[0;34m()\u001b[0m\n\u001b[1;32m    127\u001b[0m       \u001b[0;32mif\u001b[0m \u001b[0;34m(\u001b[0m\u001b[0mlinks\u001b[0m\u001b[0;34m[\u001b[0m\u001b[0mRoutes\u001b[0m\u001b[0;34m.\u001b[0m\u001b[0mindex\u001b[0m\u001b[0;34m(\u001b[0m\u001b[0mw\u001b[0m\u001b[0;34m)\u001b[0m\u001b[0;34m]\u001b[0m\u001b[0;34m[\u001b[0m\u001b[0mj\u001b[0m\u001b[0;34m]\u001b[0m \u001b[0;34m>\u001b[0m \u001b[0;36m0\u001b[0m\u001b[0;34m)\u001b[0m\u001b[0;34m:\u001b[0m\u001b[0;34m\u001b[0m\u001b[0;34m\u001b[0m\u001b[0m\n\u001b[1;32m    128\u001b[0m         \u001b[0mProbes_in_Route\u001b[0m\u001b[0;34m.\u001b[0m\u001b[0mappend\u001b[0m\u001b[0;34m(\u001b[0m\u001b[0mProbes\u001b[0m\u001b[0;34m[\u001b[0m\u001b[0mj\u001b[0m\u001b[0;34m]\u001b[0m\u001b[0;34m)\u001b[0m\u001b[0;34m\u001b[0m\u001b[0;34m\u001b[0m\u001b[0m\n\u001b[0;32m--> 129\u001b[0;31m     \u001b[0mprob\u001b[0m \u001b[0;34m+=\u001b[0m \u001b[0mlpSum\u001b[0m\u001b[0;34m(\u001b[0m\u001b[0;34m[\u001b[0m\u001b[0mvars\u001b[0m\u001b[0;34m[\u001b[0m\u001b[0mw\u001b[0m\u001b[0;34m]\u001b[0m\u001b[0;34m[\u001b[0m\u001b[0mb\u001b[0m\u001b[0;34m]\u001b[0m \u001b[0;32mfor\u001b[0m \u001b[0mb\u001b[0m \u001b[0;32min\u001b[0m \u001b[0mProbes_in_Route\u001b[0m\u001b[0;34m]\u001b[0m\u001b[0;34m)\u001b[0m\u001b[0;34m<=\u001b[0m\u001b[0msupply\u001b[0m\u001b[0;34m[\u001b[0m\u001b[0mw\u001b[0m\u001b[0;34m]\u001b[0m\u001b[0;34m,\u001b[0m \u001b[0;34m\"Sum_of_Probes_out_of_route_%s\"\u001b[0m\u001b[0;34m%\u001b[0m\u001b[0mw\u001b[0m\u001b[0;34m\u001b[0m\u001b[0;34m\u001b[0m\u001b[0m\n\u001b[0m\u001b[1;32m    130\u001b[0m \u001b[0;34m\u001b[0m\u001b[0m\n\u001b[1;32m    131\u001b[0m \u001b[0;31m# The demand minimum constraints are added to prob for each demand node (probes)\u001b[0m\u001b[0;34m\u001b[0m\u001b[0;34m\u001b[0m\u001b[0;34m\u001b[0m\u001b[0m\n",
            "\u001b[0;31mKeyError\u001b[0m: 'A'"
          ]
        },
        {
          "output_type": "display_data",
          "data": {
            "text/plain": [
              "<Figure size 432x288 with 1 Axes>"
            ],
            "image/png": "[encoded data removed]"
          },
          "metadata": {}
        }
      ],
      "source": [
        "from logging import Handler\n",
        "from numpy.lib.function_base import append\n",
        "#!sudo pulptest\n",
        "import matplotlib.pyplot as plt\n",
        "import networkx as nx\n",
        "from networkx.readwrite import json_graph\n",
        "from pprint import pprint\n",
        "import matplotlib.patches as mpatches\n",
        "from IPython.lib.display import FileLinks\n",
        "from IPython.lib.display import FileLinks\n",
        "# Import PuLP modeler functions\n",
        "from pulp import *\n",
        "\n",
        "G = nx.Graph()\n",
        "pos = {0: (0,0), 1:(1,0) , 2: (2,0), 3: (3, 0), 4: (4, 0), 5: (2, -1), 6: (2, -2), 7: (3, -1), 8: (3, 1), 9: (4, 1)}\n",
        "node_labels = { 0: \"A\", 1: \"B\", 2: \"C\", 3: \"D\", 4: \"E\", 5: \"F\", 6: \"G\", 7: \"H\", 8: \"I\", 9: \"J\"}\n",
        "\n",
        "G.add_nodes_from(node_labels)\n",
        "G.add_edges_from([(0, 1),(1, 2),(2, 3),(3, 4),(2, 5),(2, 7),(5, 6),(2, 8),(8, 9)])\n",
        "\n",
        "\n",
        "betweenness_centrality = nx.betweenness_centrality(G)\n",
        "#pprint('betweenness_centrality')\n",
        "\n",
        "\n",
        "all_values = betweenness_centrality.values()\n",
        "max_value = max(all_values)\n",
        "\n",
        "# If a node is a probe station, then the color is green else it is  blue\n",
        "nodes_color = []\n",
        "for x in betweenness_centrality:\n",
        "  if betweenness_centrality[x]==0 or betweenness_centrality[x]==max_value:\n",
        "    nodes_color.append(\"tab:green\")    \n",
        "  else:\n",
        "    nodes_color.append(\"tab:blue\")\n",
        "\n",
        "\n",
        "\n",
        "# nodes\n",
        "options = {\"edgecolors\": \"tab:gray\", \"node_size\": 800, \"alpha\": 0.9}\n",
        "nx.draw_networkx_nodes(G, pos, nodelist=[ 0, 1, 2, 3, 4, 5, 6, 7, 8, 9], node_color=nodes_color, **options)\n",
        "\n",
        "# edges\n",
        "nx.draw_networkx_edges(\n",
        "    G,\n",
        "    pos,\n",
        "    edgelist=G.edges,\n",
        "    width=3,\n",
        "    alpha=0.5,\n",
        "    edge_color=\"tab:green\",\n",
        ")\n",
        "\n",
        "\n",
        "nx.draw_networkx_labels(G, pos, node_labels, font_size=22, font_color=\"whitesmoke\")\n",
        "nx.write_graphml(G,\"saida\")\n",
        "\n",
        "\n",
        "\n",
        "# Creates a dictionary for the number of probes in each host\n",
        "supply = {}\n",
        "\n",
        "for nodes in G:\n",
        "  if nodes_color[nodes]!='tab:blue':\n",
        "    arestas= G.edges(nodes)\n",
        "    supply[nodes]=len(arestas)\n",
        "\n",
        "# Creates a list of all demand nodes\n",
        "Probes = []\n",
        "# Creates a dictionary for the number of units of demand for each demand node\n",
        "demand = {}\n",
        "\n",
        "for POS, DADO in node_labels.items():\n",
        "  for POS2, DADO2 in node_labels.items():\n",
        "    if POS < POS2:\n",
        "      if nodes_color[POS]!='tab:blue':\n",
        "        Probes.append(DADO+DADO2)\n",
        "        demand[DADO+DADO2]=1;\n",
        "\n",
        "\n",
        "# Creates a list of costs of each probe path\n",
        "costs = []\n",
        "links = []\n",
        "Routes= []\n",
        "\n",
        "possible_probes = []\n",
        "\n",
        "for node in G.nodes:\n",
        "  linhacosts = []\n",
        "  linhalinks = []\n",
        "  if nodes_color[node]!='tab:blue':\n",
        "    Routes.append(node_labels[node])\n",
        "    for probe in Probes:\n",
        "      if (node_labels[node] in probe):\n",
        "        myTuple = (node_labels[node],probe)\n",
        "        possible_probes.append(myTuple)\n",
        "        linhacosts.append(len(G.edges(node)))\n",
        "        linhalinks.append(1)\n",
        "      else:\n",
        "        linhacosts.append(0)\n",
        "        linhalinks.append(1)\n",
        "    costs.append(linhacosts)\n",
        "    links.append(linhalinks)\n",
        "\n",
        "# The cost data is made into a dictionary\n",
        "costs = makeDict([Routes,Probes],costs,0)\n",
        "\n",
        "\n",
        "\n",
        "# Creates the 'prob' variable to contain the problem data\n",
        "prob = LpProblem(\"Probes Placement Problem\",LpMaximize)\n",
        "\n",
        "#print (possible_probes)\n",
        "# A dictionary called 'Vars' is created to contain the referenced variables(the routes)\n",
        "vars = LpVariable.dicts(\"Route\",(Routes,Probes),0,None,LpInteger)\n",
        "\n",
        "\n",
        "# The objective function is added to 'prob' first\n",
        "#tmp1 = lpSum([vars[w][b]*costs[w][b] for (w,b) in possible_probes])\n",
        "#tmp2 = lpSum([vars[w][b]*costs[w][b] for (w,b) in possible_probes])\n",
        "prob +=  lpSum([vars[w][b]*costs[w][b] for (w,b) in possible_probes]), \"Sum_of_Transporting_Costs\"\n",
        "\n",
        "\n",
        "# The supply maximum constraints are added to prob for each supply node (routes)\n",
        "for w in Routes:\n",
        "    Probes_in_Route = []\n",
        "    for j in range(9):\n",
        "      if (links[Routes.index(w)][j] > 0): \n",
        "        Probes_in_Route.append(Probes[j])\n",
        "    prob += lpSum([vars[w][b] for b in Probes_in_Route])<=supply[w], \"Sum_of_Probes_out_of_route_%s\"%w\n",
        "\n",
        "# The demand minimum constraints are added to prob for each demand node (probes)\n",
        "for b in Probes:\n",
        "    Probes_in_Route = []\n",
        "    for j in range(6):\n",
        "      if (links[j][Probes.index(b)] > 0): \n",
        "        Probes_in_Route.append(Routes[j])\n",
        "    prob += lpSum([vars[w][b] for w in Probes_in_Route])==demand[b], \"Sum_of_Products_into_Bar%s\"%b\n",
        "\n",
        "\n",
        "# The problem data is written to an .lp file\n",
        "prob.writeLP(\"ProbesPlacement.lp\")\n",
        "\n",
        "# The problem is solved using PuLP's choice of Solver\n",
        "prob.solve()\n",
        "\n",
        "# The status of the solution is printed to the screen\n",
        "print(\"Status:\", LpStatus[prob.status])\n",
        "\n",
        "# Each of the variables is printed with it's resolved optimum value\n",
        "for v in prob.variables():\n",
        "    #if v.varValue > 0:\n",
        "      print(v.name, \"=\", v.varValue)\n",
        "\n",
        "# The optimised objective function value is printed to the screen    \n",
        "print(\"Total Cost = \", value(prob.objective))\n",
        "\n",
        "\n",
        "      \n",
        "#pprint(Probes)\n",
        "#pprint(demand)\n",
        "plt.tight_layout()\n",
        "plt.axis(\"off\")\n",
        "plt.show()\n",
        "\n",
        "# Save graph\n",
        "\n",
        "\n",
        "\n",
        "\n",
        "\n"
      ]
    }
  ]
}