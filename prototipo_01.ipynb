{
  "nbformat": 4,
  "nbformat_minor": 0,
  "metadata": {
    "colab": {
      "name": "prototipo_01.ipynb",
      "provenance": [],
      "authorship_tag": "ABX9TyPmoxgAsPaBNk4C5Y7Vx+vI",
      "include_colab_link": true
    },
    "kernelspec": {
      "name": "python3",
      "display_name": "Python 3"
    },
    "language_info": {
      "name": "python"
    }
  },
  "cells": [
    {
      "cell_type": "markdown",
      "metadata": {
        "id": "view-in-github",
        "colab_type": "text"
      },
      "source": [
        "<a href=\"https://colab.research.google.com/github/neimarcos/Mestrado/blob/main/prototipo_01.ipynb\" target=\"_parent\"><img src=\"https://colab.research.google.com/assets/colab-badge.svg\" alt=\"Open In Colab\"/></a>"
      ]
    },
    {
      "cell_type": "markdown",
      "source": [
        "Testes iniciais com grafico simples, feito na mão no exemplo"
      ],
      "metadata": {
        "id": "DTwV3xP_IycR"
      }
    },
    {
      "cell_type": "code",
      "execution_count": 142,
      "metadata": {
        "colab": {
          "base_uri": "https://localhost:8080/",
          "height": 332
        },
        "id": "ilvkSA-1IldF",
        "outputId": "8e9070f5-a823-4a7c-a41e-9cc8381ad985"
      },
      "outputs": [
        {
          "output_type": "stream",
          "name": "stdout",
          "text": [
            "{0: 1, 1: 2, 2: 5, 3: 2, 4: 1, 5: 2, 6: 1, 7: 1, 8: 2, 9: 1}\n",
            "['A', 'B', 'C', 'D', 'E', 'F', 'G', 'H', 'I', 'J']\n"
          ]
        },
        {
          "output_type": "display_data",
          "data": {
            "text/plain": [
              "<Figure size 432x288 with 1 Axes>"
            ],
            "image/png": "[encoded data removed]"
          },
          "metadata": {}
        }
      ],
      "source": [
        "from logging import Handler\n",
        "from numpy.lib.function_base import append\n",
        "#!sudo pulptest\n",
        "import matplotlib.pyplot as plt\n",
        "import networkx as nx\n",
        "from networkx.readwrite import json_graph\n",
        "from pprint import pprint\n",
        "import matplotlib.patches as mpatches\n",
        "\n",
        "G = nx.Graph()\n",
        "pos = {0: (0,0), 1:(1,0) , 2: (2,0), 3: (3, 0), 4: (4, 0), 5: (2, -1), 6: (2, -2), 7: (3, -1), 8: (3, 1), 9: (4, 1)}\n",
        "node_labels = { 0: \"A\", 1: \"B\", 2: \"C\", 3: \"D\", 4: \"E\", 5: \"F\", 6: \"G\", 7: \"H\", 8: \"I\", 9: \"J\"}\n",
        "\n",
        "G.add_nodes_from(node_labels)\n",
        "G.add_edges_from([(0, 1),(1, 2),(2, 3),(3, 4),(2, 5),(2, 7),(5, 6),(2, 8),(8, 9)])\n",
        "\n",
        "\n",
        "betweenness_centrality = nx.betweenness_centrality(G)\n",
        "#pprint('betweenness_centrality')\n",
        "\n",
        "\n",
        "all_values = betweenness_centrality.values()\n",
        "max_value = max(all_values)\n",
        "\n",
        "# If a node is a probe station, then the color is green else it is  blue\n",
        "nodes_color = []\n",
        "for x in betweenness_centrality:\n",
        "  if betweenness_centrality[x]==0 or betweenness_centrality[x]==max_value:\n",
        "    nodes_color.append(\"tab:green\")    \n",
        "  else:\n",
        "    nodes_color.append(\"tab:blue\")\n",
        "\n",
        "\n",
        "\n",
        "# nodes\n",
        "options = {\"edgecolors\": \"tab:gray\", \"node_size\": 800, \"alpha\": 0.9}\n",
        "nx.draw_networkx_nodes(G, pos, nodelist=[ 0, 1, 2, 3, 4, 5, 6, 7, 8, 9], node_color=nodes_color, **options)\n",
        "\n",
        "# edges\n",
        "nx.draw_networkx_edges(\n",
        "    G,\n",
        "    pos,\n",
        "    edgelist=G.edges,\n",
        "    width=3,\n",
        "    alpha=0.5,\n",
        "    edge_color=\"tab:green\",\n",
        ")\n",
        "\n",
        "\n",
        "nx.draw_networkx_labels(G, pos, node_labels, font_size=22, font_color=\"whitesmoke\")\n",
        "nx.write_graphml(G,\"saida\")\n",
        "\n",
        "# Creates a list of all the supply nodes\n",
        "Routes= list(node_labels.values())\n",
        "\n",
        "# Creates a dictionary for the number of probes in each host\n",
        "Probes = {}\n",
        "for nodes in G:\n",
        "  Probes[nodes]=len(G.edges(nodes))\n",
        "\n",
        "\n",
        "\n",
        "pprint(Probes)\n",
        "\n",
        "\n",
        "\n",
        "pprint(Routes)\n",
        "plt.tight_layout()\n",
        "plt.axis(\"off\")\n",
        "plt.show()\n",
        "\n",
        "# Save graph\n",
        "\n",
        "\n",
        "\n",
        "\n",
        "\n"
      ]
    }
  ]
}